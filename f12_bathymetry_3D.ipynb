{
 "cells": [
  {
   "cell_type": "code",
   "execution_count": 1,
   "metadata": {},
   "outputs": [],
   "source": [
    "%matplotlib notebook\n",
    "import numpy as np\n",
    "import netCDF4 as nc\n",
    "import scipy.io as spio\n",
    "import matplotlib.pyplot as plt\n",
    "from mpl_toolkits.basemap import Basemap as bm\n",
    "from mpl_toolkits.mplot3d import Axes3D as a3d\n",
    "import plotly.plotly as py\n",
    "import plotly.graph_objs as go\n"
   ]
  },
  {
   "cell_type": "code",
   "execution_count": 2,
   "metadata": {},
   "outputs": [
    {
     "name": "stdout",
     "output_type": "stream",
     "text": [
      "Variable           Type      Data/Info\n",
      "--------------------------------------\n",
      "a3d                type      <class 'mpl_toolkits.mplot3d.axes3d.Axes3D'>\n",
      "bathymetry         dict      n=4\n",
      "bathymetry_file    str       /Users/earl/Dropbox/Data/SACS_data/SmSan02.mat\n",
      "bm                 type      <class 'mpl_toolkits.basemap.Basemap'>\n",
      "coordinates        dict      n=4\n",
      "coordinates_file   str       /Users/earl/Dropbox/Data/SACS_data/aus8_coor.mat\n",
      "go                 module    <module 'plotly.graph_obj<...>/graph_objs/__init__.py'>\n",
      "nc                 module    <module 'netCDF4' from '/<...>ges/netCDF4/__init__.py'>\n",
      "np                 module    <module 'numpy' from '/Us<...>kages/numpy/__init__.py'>\n",
      "plt                module    <module 'matplotlib.pyplo<...>es/matplotlib/pyplot.py'>\n",
      "py                 module    <module 'plotly.plotly' f<...>otly/plotly/__init__.py'>\n",
      "spio               module    <module 'scipy.io' from '<...>es/scipy/io/__init__.py'>\n"
     ]
    }
   ],
   "source": [
    "bathymetry_file = '/Users/earl/Dropbox/Data/SACS_data/SmSan02.mat'\n",
    "bathymetry = spio.loadmat(bathymetry_file)\n",
    "\n",
    "coordinates_file = '/Users/earl/Dropbox/Data/SACS_data/aus8_coor.mat'\n",
    "coordinates = spio.loadmat(coordinates_file)\n",
    "%whos\n"
   ]
  },
  {
   "cell_type": "code",
   "execution_count": 3,
   "metadata": {},
   "outputs": [
    {
     "name": "stdout",
     "output_type": "stream",
     "text": [
      "Variable           Type       Data/Info\n",
      "---------------------------------------\n",
      "SmSan02            ndarray    1x1: 1 elems, type `[('lat', 'O'), ('lon', 'O'), ('topo_orig', 'O'), ('topo_orig_interp', 'O'), ('topo_binavg', 'O')]`, 40 bytes\n",
      "a3d                type       <class 'mpl_toolkits.mplot3d.axes3d.Axes3D'>\n",
      "aus8_coor          ndarray    1x1: 1 elems, type `[('lat', 'O'), ('lon', 'O'), ('depth', 'O'), ('Months', 'O'), ('bottom_depth', 'O'), ('pres', 'O'), ('a', 'O'), ('pi180', 'O'), ('lat_v', 'O'), ('lat_u', 'O'), ('lon_u', 'O'), ('lon_v', 'O'), ('depth_thkn', 'O'), ('depth_mid', 'O'), ('U_mask', 'O'), ('V_mask', 'O'), ('F_mask', 'O'), ('u_bottom', 'O'), ('v_bottom', 'O'), ('U_mask_KDau', 'O'), ('V_mask_KDau', 'O'), ('u_bottom_KDau', 'O'), ('v_bottom_KDau', 'O'), ('F_mask_KDau', 'O'), ('MTH', 'O')]`, 200 bytes\n",
      "bathymetry         dict       n=4\n",
      "bathymetry_file    str        /Users/earl/Dropbox/Data/SACS_data/SmSan02.mat\n",
      "bm                 type       <class 'mpl_toolkits.basemap.Basemap'>\n",
      "coordinates        dict       n=4\n",
      "coordinates_file   str        /Users/earl/Dropbox/Data/SACS_data/aus8_coor.mat\n",
      "go                 module     <module 'plotly.graph_obj<...>/graph_objs/__init__.py'>\n",
      "lat                ndarray    161x1: 161 elems, type `float64`, 1288 bytes\n",
      "lon                ndarray    1x361: 361 elems, type `float64`, 2888 bytes\n",
      "nc                 module     <module 'netCDF4' from '/<...>ges/netCDF4/__init__.py'>\n",
      "np                 module     <module 'numpy' from '/Us<...>kages/numpy/__init__.py'>\n",
      "plt                module     <module 'matplotlib.pyplo<...>es/matplotlib/pyplot.py'>\n",
      "py                 module     <module 'plotly.plotly' f<...>otly/plotly/__init__.py'>\n",
      "spio               module     <module 'scipy.io' from '<...>es/scipy/io/__init__.py'>\n",
      "topog              ndarray    161x361: 58121 elems, type `float64`, 464968 bytes (454.0703125 kb)\n"
     ]
    }
   ],
   "source": [
    "aus8_coor = coordinates['aus8_coor']\n",
    "lat = aus8_coor['lat'][0][0]\n",
    "lon = aus8_coor['lon'][0][0]\n",
    "\n",
    "SmSan02 = bathymetry['SmSan02']\n",
    "topog = SmSan02['topo_binavg'][0][0]\n",
    "%whos"
   ]
  },
  {
   "cell_type": "code",
   "execution_count": 4,
   "metadata": {},
   "outputs": [
    {
     "name": "stdout",
     "output_type": "stream",
     "text": [
      "(1, 361)\n",
      "(161, 1)\n",
      "(161, 361)\n"
     ]
    }
   ],
   "source": [
    "print(lon.shape)\n",
    "print(lat.shape)\n",
    "print(topog.shape)"
   ]
  },
  {
   "cell_type": "code",
   "execution_count": 11,
   "metadata": {},
   "outputs": [
    {
     "data": {
      "text/html": [
       "<iframe id=\"igraph\" scrolling=\"no\" style=\"border:none;\" seamless=\"seamless\" src=\"https://plot.ly/~erduran/3.embed\" height=\"700px\" width=\"1000px\"></iframe>"
      ],
      "text/plain": [
       "<plotly.tools.PlotlyDisplay object>"
      ]
     },
     "execution_count": 11,
     "metadata": {},
     "output_type": "execute_result"
    }
   ],
   "source": [
    "surface = dict(type='surface', z=topog.T, contours=dict(z=dict(show=True)))\n",
    "data = [surface]\n",
    "\n",
    "layout = go.Layout(\n",
    "    title='Parametric Plot',\n",
    "    width=1000,\n",
    "    height=700,\n",
    "    margin=dict(\n",
    "        l=65,\n",
    "        r=50,\n",
    "        b=65,\n",
    "        t=90),\n",
    "    xaxis=dict(domain=[0.7, 0.7, 0.7]),\n",
    "    scene=go.Scene(\n",
    "        xaxis=go.XAxis(\n",
    "            gridcolor='rgb(255, 255, 255)',\n",
    "            zerolinecolor='rgb(255, 255, 255)',\n",
    "            showbackground=False,\n",
    "            backgroundcolor='rgb(230, 230,230)'\n",
    "        ),\n",
    "        yaxis=go.YAxis(\n",
    "            gridcolor='rgb(255, 255, 255)',\n",
    "            zerolinecolor='rgb(255, 255, 255)',\n",
    "            showbackground=False,\n",
    "            backgroundcolor='rgb(230, 230,230)'\n",
    "        ),\n",
    "        zaxis=go.ZAxis(\n",
    "            tickmode='linear',\n",
    "            tick0=-1,\n",
    "            dtick=6000,\n",
    "            gridcolor='rgb(255, 255, 255)',\n",
    "            zerolinecolor='rgb(255, 255, 255)',\n",
    "            showbackground=False,\n",
    "            backgroundcolor='rgb(230, 230,230)'\n",
    "        )\n",
    "    )\n",
    ")\n",
    "\n",
    "fig = dict(data=data, layout=layout)\n",
    "py.iplot(fig, filename='elevations-3d-surface')"
   ]
  },
  {
   "cell_type": "code",
   "execution_count": null,
   "metadata": {
    "collapsed": true
   },
   "outputs": [],
   "source": []
  }
 ],
 "metadata": {
  "kernelspec": {
   "display_name": "Python 3",
   "language": "python",
   "name": "python3"
  },
  "language_info": {
   "codemirror_mode": {
    "name": "ipython",
    "version": 3
   },
   "file_extension": ".py",
   "mimetype": "text/x-python",
   "name": "python",
   "nbconvert_exporter": "python",
   "pygments_lexer": "ipython3",
   "version": "3.6.3"
  },
  "varInspector": {
   "cols": {
    "lenName": 16,
    "lenType": 16,
    "lenVar": 40
   },
   "kernels_config": {
    "python": {
     "delete_cmd_postfix": "",
     "delete_cmd_prefix": "del ",
     "library": "var_list.py",
     "varRefreshCmd": "print(var_dic_list())"
    },
    "r": {
     "delete_cmd_postfix": ") ",
     "delete_cmd_prefix": "rm(",
     "library": "var_list.r",
     "varRefreshCmd": "cat(var_dic_list()) "
    }
   },
   "oldHeight": 134,
   "position": {
    "height": "277px",
    "left": "903px",
    "right": "20px",
    "top": "27px",
    "width": "457px"
   },
   "types_to_exclude": [
    "module",
    "function",
    "builtin_function_or_method",
    "instance",
    "_Feature"
   ],
   "varInspector_section_display": "block",
   "window_display": false
  }
 },
 "nbformat": 4,
 "nbformat_minor": 2
}
